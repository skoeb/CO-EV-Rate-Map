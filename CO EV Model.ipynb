{
 "cells": [
  {
   "cell_type": "markdown",
   "metadata": {},
   "source": [
    "# CO EV Model\n",
    "\n",
    "Using simulated EV load data from NREL's *__[EVI-Pro](https://www.nrel.gov/docs/fy18osti/70831.pdf)__* tool, this model allows the user to generate various scenarios of EV adoption and user charging time preference to vizualize the impact on overall Xcel (PSCo) system load. Data is simulated from the driving habits and patterns of non-EV users and modeled to project expected charging time, type, volume, and location.\n",
    "\n",
    "-  __Percentages__ select the proportion of EV users that are charging using a given method or program. Percentages must equal 100% for the model to run.\n",
    "    1. __Percent No Delay__ represents the proportion of users who plug into a charger and immediately begin charging. \n",
    "    2. __Percent Max Delay__ represents the proprtion of users who input a future time when they will require their EV to be fully charged, the EV \n",
    "    3. __Percent Min Power__ represents the proportion of users who charge at the minimum charging rate.\n",
    "    4. __Percent Shiftable__ represents the proportion of *Home L1 and Home L2* users who opt-in to allow Xcel to control their load when charging. Load is distributed smoothly amongst the periods with the lowest system lambda costs. \n",
    "    5. __Percent TOU__ represents the proportion of *Home L1 and Home L2* users that react to TOU rates between 9PM and 9AM. A user in this category plugs in around the start of the TOU period with some stochastic variation. \n",
    "    \n",
    "    \n",
    "-  __Day of Week__ selects the blend of EV profiles (this doesn't modify system load at this time). \n",
    "\n",
    "-  __Number of EVs__ selects the number of modeled electric vehicles. This value can be set to string values of low (38,056 EVs), med (302,429 EVs), and high (940,000 EVs) based on scenarios projected by the __[Colorado Energy Office's EV Market Implementation Study](https://www.colorado.gov/pacific/sites/default/files/atoms/files/EV%20Market%20Study%202015_0.pdf)__.\n",
    "\n",
    "Press __Run Interact__ to update the model after input parameters have been changed. \n"
   ]
  },
  {
   "cell_type": "code",
   "execution_count": 1,
   "metadata": {
    "scrolled": true
   },
   "outputs": [
    {
     "data": {
      "text/html": [
       "<style>.container { width:85% !important; }</style>"
      ],
      "text/plain": [
       "<IPython.core.display.HTML object>"
      ]
     },
     "metadata": {},
     "output_type": "display_data"
    },
    {
     "data": {
      "text/html": [
       "<style>.output_wrapper, .output {height:auto !important; max-height:2500px;}.output_scroll {box-shadow:none !important; webkit-box-shadow:none !important;}</style>"
      ],
      "text/plain": [
       "<IPython.core.display.HTML object>"
      ]
     },
     "metadata": {},
     "output_type": "display_data"
    },
    {
     "data": {
      "application/vnd.jupyter.widget-view+json": {
       "model_id": "9556730bc47748e0844a6665ebcb1340",
       "version_major": 2,
       "version_minor": 0
      },
      "text/plain": [
       "interactive(children=(IntSlider(value=20, continuous_update=False, description='Percent No Delay:', step=5, st…"
      ]
     },
     "metadata": {},
     "output_type": "display_data"
    }
   ],
   "source": [
    "import parameterwidgets"
   ]
  },
  {
   "cell_type": "markdown",
   "metadata": {},
   "source": [
    "Please contact Sam.Koebrich@NREL.gov with any questions or comments. \n",
    "\n",
    "Written in 🐍 with 💕"
   ]
  },
  {
   "cell_type": "code",
   "execution_count": null,
   "metadata": {},
   "outputs": [],
   "source": []
  }
 ],
 "metadata": {
  "kernelspec": {
   "display_name": "Python 3",
   "language": "python",
   "name": "python3"
  },
  "language_info": {
   "codemirror_mode": {
    "name": "ipython",
    "version": 3
   },
   "file_extension": ".py",
   "mimetype": "text/x-python",
   "name": "python",
   "nbconvert_exporter": "python",
   "pygments_lexer": "ipython3",
   "version": "3.6.5"
  }
 },
 "nbformat": 4,
 "nbformat_minor": 2
}
